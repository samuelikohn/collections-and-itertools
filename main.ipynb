{
 "cells": [
  {
   "cell_type": "markdown",
   "id": "b2a05e9a",
   "metadata": {},
   "source": [
    "# Collections\n",
    "\n",
    "The `collections` module is part of the Python Standard Library and provides a handful of specialized containers built around Python's basic containers types (`list`, `tuple`, `set`, `dict`) that offer more specific functionality.\n",
    "\n",
    "[View the official Python docs.](https://docs.python.org/3/library/collections.html) Everything you need to know is here and straight to the point, there's a few examples included as well."
   ]
  },
  {
   "cell_type": "markdown",
   "id": "1ba99867",
   "metadata": {},
   "source": [
    "### Let's start with an example"
   ]
  },
  {
   "cell_type": "code",
   "execution_count": 17,
   "id": "b61ae7d3",
   "metadata": {},
   "outputs": [],
   "source": [
    "import collections"
   ]
  },
  {
   "cell_type": "code",
   "execution_count": 18,
   "id": "1cbc5ada",
   "metadata": {},
   "outputs": [],
   "source": [
    "text = \"\"\"\n",
    "We're no strangers to love\n",
    "You know the rules and so do I\n",
    "A full commitment's what I'm thinkin' of\n",
    "You wouldn't get this from any other guy\n",
    "I just wanna tell you how I'm feeling\n",
    "Gotta make you understand\n",
    "Never gonna give you up, never gonna let you down\n",
    "Never gonna run around and desert you\n",
    "Never gonna make you cry, never gonna say goodbye\n",
    "Never gonna tell a lie and hurt you\n",
    "We've known each other for so long\n",
    "Your heart's been aching, but you're too shy to say it\n",
    "Inside, we both know what's been going on\n",
    "We know the game and we're gonna play it\n",
    "And if you ask me how I'm feeling\n",
    "Don't tell me you're too blind to see\n",
    "Never gonna give you up, never gonna let you down\n",
    "Never gonna run around and desert you\n",
    "Never gonna make you cry, never gonna say goodbye\n",
    "Never gonna tell a lie and hurt you\n",
    "Never gonna give you up, never gonna let you down\n",
    "Never gonna run around and desert you\n",
    "Never gonna make you cry, never gonna say goodbye\n",
    "Never gonna tell a lie and hurt you\n",
    "We've known each other for so long\n",
    "Your heart's been aching, but you're too shy to say it\n",
    "Inside, we both know what's been going on\n",
    "We know the game and we're gonna play it\n",
    "I just wanna tell you how I'm feeling\n",
    "Gotta make you understand\n",
    "Never gonna give you up, never gonna let you down\n",
    "Never gonna run around and desert you\n",
    "Never gonna make you cry, never gonna say goodbye\n",
    "Never gonna tell a lie and hurt you\n",
    "Never gonna give you up, never gonna let you down\n",
    "Never gonna run around and desert you\n",
    "Never gonna make you cry, never gonna say goodbye\n",
    "Never gonna tell a lie and hurt you\n",
    "Never gonna give you up, never gonna let you down\n",
    "Never gonna run around and desert you\n",
    "Never gonna make you cry, never gonna say goodbye\n",
    "Never gonna tell a lie and hurt you\n",
    "\"\"\"\n",
    "\n",
    "# Preprocessing\n",
    "text = text.replace(\",\", \"\").lower().split()"
   ]
  },
  {
   "cell_type": "markdown",
   "id": "2e1314de",
   "metadata": {},
   "source": [
    "This is the most basic method for creating a frequency counter."
   ]
  },
  {
   "cell_type": "code",
   "execution_count": 19,
   "id": "ce2e398b",
   "metadata": {},
   "outputs": [
    {
     "data": {
      "text/plain": [
       "{\"we're\": 3,\n",
       " 'no': 1,\n",
       " 'strangers': 1,\n",
       " 'to': 4,\n",
       " 'love': 1,\n",
       " 'you': 37,\n",
       " 'know': 5,\n",
       " 'the': 3,\n",
       " 'rules': 1,\n",
       " 'and': 16,\n",
       " 'so': 3,\n",
       " 'do': 1,\n",
       " 'i': 3,\n",
       " 'a': 7,\n",
       " 'full': 1,\n",
       " \"commitment's\": 1,\n",
       " 'what': 1,\n",
       " \"i'm\": 4,\n",
       " \"thinkin'\": 1,\n",
       " 'of': 1,\n",
       " \"wouldn't\": 1,\n",
       " 'get': 1,\n",
       " 'this': 1,\n",
       " 'from': 1,\n",
       " 'any': 1,\n",
       " 'other': 3,\n",
       " 'guy': 1,\n",
       " 'just': 2,\n",
       " 'wanna': 2,\n",
       " 'tell': 9,\n",
       " 'how': 3,\n",
       " 'feeling': 3,\n",
       " 'gotta': 2,\n",
       " 'make': 8,\n",
       " 'understand': 2,\n",
       " 'never': 36,\n",
       " 'gonna': 38,\n",
       " 'give': 6,\n",
       " 'up': 6,\n",
       " 'let': 6,\n",
       " 'down': 6,\n",
       " 'run': 6,\n",
       " 'around': 6,\n",
       " 'desert': 6,\n",
       " 'cry': 6,\n",
       " 'say': 8,\n",
       " 'goodbye': 6,\n",
       " 'lie': 6,\n",
       " 'hurt': 6,\n",
       " \"we've\": 2,\n",
       " 'known': 2,\n",
       " 'each': 2,\n",
       " 'for': 2,\n",
       " 'long': 2,\n",
       " 'your': 2,\n",
       " \"heart's\": 2,\n",
       " 'been': 4,\n",
       " 'aching': 2,\n",
       " 'but': 2,\n",
       " \"you're\": 3,\n",
       " 'too': 3,\n",
       " 'shy': 2,\n",
       " 'it': 4,\n",
       " 'inside': 2,\n",
       " 'we': 4,\n",
       " 'both': 2,\n",
       " \"what's\": 2,\n",
       " 'going': 2,\n",
       " 'on': 2,\n",
       " 'game': 2,\n",
       " 'play': 2,\n",
       " 'if': 1,\n",
       " 'ask': 1,\n",
       " 'me': 2,\n",
       " \"don't\": 1,\n",
       " 'blind': 1,\n",
       " 'see': 1}"
      ]
     },
     "execution_count": 19,
     "metadata": {},
     "output_type": "execute_result"
    }
   ],
   "source": [
    "# Create a frequency counter\n",
    "frequencies = {}\n",
    "for word in text:\n",
    "    if word in frequencies:\n",
    "        frequencies[word] += 1\n",
    "    else:\n",
    "        frequencies[word] = 1\n",
    "\n",
    "frequencies"
   ]
  },
  {
   "cell_type": "markdown",
   "id": "280b726c",
   "metadata": {},
   "source": [
    "The `dict.get` method used fewer lines of code, but does effectively the same thing."
   ]
  },
  {
   "cell_type": "code",
   "execution_count": 20,
   "id": "16590a3f",
   "metadata": {},
   "outputs": [
    {
     "data": {
      "text/plain": [
       "{\"we're\": 3,\n",
       " 'no': 1,\n",
       " 'strangers': 1,\n",
       " 'to': 4,\n",
       " 'love': 1,\n",
       " 'you': 37,\n",
       " 'know': 5,\n",
       " 'the': 3,\n",
       " 'rules': 1,\n",
       " 'and': 16,\n",
       " 'so': 3,\n",
       " 'do': 1,\n",
       " 'i': 3,\n",
       " 'a': 7,\n",
       " 'full': 1,\n",
       " \"commitment's\": 1,\n",
       " 'what': 1,\n",
       " \"i'm\": 4,\n",
       " \"thinkin'\": 1,\n",
       " 'of': 1,\n",
       " \"wouldn't\": 1,\n",
       " 'get': 1,\n",
       " 'this': 1,\n",
       " 'from': 1,\n",
       " 'any': 1,\n",
       " 'other': 3,\n",
       " 'guy': 1,\n",
       " 'just': 2,\n",
       " 'wanna': 2,\n",
       " 'tell': 9,\n",
       " 'how': 3,\n",
       " 'feeling': 3,\n",
       " 'gotta': 2,\n",
       " 'make': 8,\n",
       " 'understand': 2,\n",
       " 'never': 36,\n",
       " 'gonna': 38,\n",
       " 'give': 6,\n",
       " 'up': 6,\n",
       " 'let': 6,\n",
       " 'down': 6,\n",
       " 'run': 6,\n",
       " 'around': 6,\n",
       " 'desert': 6,\n",
       " 'cry': 6,\n",
       " 'say': 8,\n",
       " 'goodbye': 6,\n",
       " 'lie': 6,\n",
       " 'hurt': 6,\n",
       " \"we've\": 2,\n",
       " 'known': 2,\n",
       " 'each': 2,\n",
       " 'for': 2,\n",
       " 'long': 2,\n",
       " 'your': 2,\n",
       " \"heart's\": 2,\n",
       " 'been': 4,\n",
       " 'aching': 2,\n",
       " 'but': 2,\n",
       " \"you're\": 3,\n",
       " 'too': 3,\n",
       " 'shy': 2,\n",
       " 'it': 4,\n",
       " 'inside': 2,\n",
       " 'we': 4,\n",
       " 'both': 2,\n",
       " \"what's\": 2,\n",
       " 'going': 2,\n",
       " 'on': 2,\n",
       " 'game': 2,\n",
       " 'play': 2,\n",
       " 'if': 1,\n",
       " 'ask': 1,\n",
       " 'me': 2,\n",
       " \"don't\": 1,\n",
       " 'blind': 1,\n",
       " 'see': 1}"
      ]
     },
     "execution_count": 20,
     "metadata": {},
     "output_type": "execute_result"
    }
   ],
   "source": [
    "frequencies.clear()\n",
    "\n",
    "# Using `get` method\n",
    "for word in text:\n",
    "    frequencies[word] = frequencies.get(word, 0) + 1\n",
    "\n",
    "frequencies"
   ]
  },
  {
   "cell_type": "markdown",
   "id": "f0ab437e",
   "metadata": {},
   "source": [
    "We can use our iterable `text` to instantiate a `Counter` object."
   ]
  },
  {
   "cell_type": "code",
   "execution_count": 21,
   "id": "c9e06b7d",
   "metadata": {},
   "outputs": [
    {
     "data": {
      "text/plain": [
       "Counter({'gonna': 38,\n",
       "         'you': 37,\n",
       "         'never': 36,\n",
       "         'and': 16,\n",
       "         'tell': 9,\n",
       "         'make': 8,\n",
       "         'say': 8,\n",
       "         'a': 7,\n",
       "         'give': 6,\n",
       "         'up': 6,\n",
       "         'let': 6,\n",
       "         'down': 6,\n",
       "         'run': 6,\n",
       "         'around': 6,\n",
       "         'desert': 6,\n",
       "         'cry': 6,\n",
       "         'goodbye': 6,\n",
       "         'lie': 6,\n",
       "         'hurt': 6,\n",
       "         'know': 5,\n",
       "         'to': 4,\n",
       "         \"i'm\": 4,\n",
       "         'been': 4,\n",
       "         'it': 4,\n",
       "         'we': 4,\n",
       "         \"we're\": 3,\n",
       "         'the': 3,\n",
       "         'so': 3,\n",
       "         'i': 3,\n",
       "         'other': 3,\n",
       "         'how': 3,\n",
       "         'feeling': 3,\n",
       "         \"you're\": 3,\n",
       "         'too': 3,\n",
       "         'just': 2,\n",
       "         'wanna': 2,\n",
       "         'gotta': 2,\n",
       "         'understand': 2,\n",
       "         \"we've\": 2,\n",
       "         'known': 2,\n",
       "         'each': 2,\n",
       "         'for': 2,\n",
       "         'long': 2,\n",
       "         'your': 2,\n",
       "         \"heart's\": 2,\n",
       "         'aching': 2,\n",
       "         'but': 2,\n",
       "         'shy': 2,\n",
       "         'inside': 2,\n",
       "         'both': 2,\n",
       "         \"what's\": 2,\n",
       "         'going': 2,\n",
       "         'on': 2,\n",
       "         'game': 2,\n",
       "         'play': 2,\n",
       "         'me': 2,\n",
       "         'no': 1,\n",
       "         'strangers': 1,\n",
       "         'love': 1,\n",
       "         'rules': 1,\n",
       "         'do': 1,\n",
       "         'full': 1,\n",
       "         \"commitment's\": 1,\n",
       "         'what': 1,\n",
       "         \"thinkin'\": 1,\n",
       "         'of': 1,\n",
       "         \"wouldn't\": 1,\n",
       "         'get': 1,\n",
       "         'this': 1,\n",
       "         'from': 1,\n",
       "         'any': 1,\n",
       "         'guy': 1,\n",
       "         'if': 1,\n",
       "         'ask': 1,\n",
       "         \"don't\": 1,\n",
       "         'blind': 1,\n",
       "         'see': 1})"
      ]
     },
     "execution_count": 21,
     "metadata": {},
     "output_type": "execute_result"
    }
   ],
   "source": [
    "frequencies.clear()\n",
    "\n",
    "# Using a `Counter` object\n",
    "frequencies = collections.Counter(text)\n",
    "\n",
    "frequencies"
   ]
  },
  {
   "cell_type": "markdown",
   "id": "0925322f",
   "metadata": {},
   "source": [
    "`Counter` is a subclass of `dict`. It can interop with `dict` objects and has all the same methods (`items`, `pop`, `update`, etc.). The specific use case allows for much more useful, specialized functionality.\n",
    "\n",
    "For example, `Counter.most_common(n)` return a list of the `n` key-value tuples with the largest frequencies."
   ]
  },
  {
   "cell_type": "code",
   "execution_count": 22,
   "id": "b775718d",
   "metadata": {},
   "outputs": [
    {
     "data": {
      "text/plain": [
       "[('gonna', 38), ('you', 37), ('never', 36), ('and', 16), ('tell', 9)]"
      ]
     },
     "execution_count": 22,
     "metadata": {},
     "output_type": "execute_result"
    }
   ],
   "source": [
    "frequencies.most_common(5)"
   ]
  },
  {
   "cell_type": "markdown",
   "id": "372d31b0",
   "metadata": {},
   "source": [
    "These classes aren't fulfilling a specific niche that otherwise isn't achievable, these are tools of convenience that offer utilities to help with relatively common tasks."
   ]
  },
  {
   "cell_type": "markdown",
   "id": "f400eb4a",
   "metadata": {},
   "source": [
    "### A quick rundown of some other `collections` classes"
   ]
  },
  {
   "cell_type": "markdown",
   "id": "7a33b394",
   "metadata": {},
   "source": [
    "`OrderedDict` maintains an ordering of its keys."
   ]
  },
  {
   "cell_type": "code",
   "execution_count": null,
   "id": "a16587d8",
   "metadata": {},
   "outputs": [],
   "source": [
    "dollar_store_lru_cache = collections.OrderedDict({})\n",
    "\n",
    "def fib(n):\n",
    "\n",
    "    # Base cases\n",
    "    if n == 0:\n",
    "        return 0\n",
    "    elif n == 1:\n",
    "        return 1\n",
    "    \n",
    "    # Typically this would be done with a decorator\n",
    "    elif n in dollar_store_lru_cache:\n",
    "\n",
    "        # Most recently used: move to end of dict\n",
    "        dollar_store_lru_cache.move_to_end(n)\n",
    "        return dollar_store_lru_cache[n]\n",
    "\n",
    "    else:\n",
    "        result = fib(n - 1) + fib(n - 2)\n",
    "        dollar_store_lru_cache[n] = result\n",
    "\n",
    "        # Most recently used: move to end of dict\n",
    "        dollar_store_lru_cache.move_to_end(n)\n",
    "\n",
    "        # Pop least recent key-value pair\n",
    "        if len(dollar_store_lru_cache) > 5:\n",
    "            dollar_store_lru_cache.popitem(last=False)\n",
    "\n",
    "        return result"
   ]
  },
  {
   "cell_type": "markdown",
   "id": "3f0a3317",
   "metadata": {},
   "source": [
    "`defaultdict` provides a default value for nonexistant keys via a callable type."
   ]
  },
  {
   "cell_type": "code",
   "execution_count": 23,
   "id": "28eafcc5",
   "metadata": {},
   "outputs": [
    {
     "data": {
      "text/plain": [
       "defaultdict(list,\n",
       "            {'powers_of_2': [1, 2, 4, 8, 16, 32],\n",
       "             'powers_of_3': [1, 3, 9, 27, 81, 243]})"
      ]
     },
     "execution_count": 23,
     "metadata": {},
     "output_type": "execute_result"
    }
   ],
   "source": [
    "super_duper_data_table = collections.defaultdict(list)\n",
    "\n",
    "# Assign a value normally\n",
    "super_duper_data_table[\"powers_of_2\"] = [1, 2, 4, 8, 16]\n",
    "\n",
    "# Operation based on existing value\n",
    "super_duper_data_table[\"powers_of_2\"].append(32)\n",
    "\n",
    "# Use default type\n",
    "super_duper_data_table[\"powers_of_3\"].extend([1, 3, 9, 27, 81, 243])\n",
    "\n",
    "super_duper_data_table"
   ]
  },
  {
   "cell_type": "markdown",
   "id": "661e5be7",
   "metadata": {},
   "source": [
    "Double-ended queue or `deque` supports pushing and popping elements from both the left and right ends."
   ]
  },
  {
   "cell_type": "code",
   "execution_count": 24,
   "id": "d2e90442",
   "metadata": {},
   "outputs": [
    {
     "data": {
      "text/plain": [
       "[2, 3, 4, 5, 1]"
      ]
     },
     "execution_count": 24,
     "metadata": {},
     "output_type": "execute_result"
    }
   ],
   "source": [
    "# Rotate circular array\n",
    "circular_array = [1, 2, 3, 4, 5]\n",
    "\n",
    "# Rotate left\n",
    "temp = circular_array.pop(0)\n",
    "circular_array.append(temp)\n",
    "\n",
    "circular_array"
   ]
  },
  {
   "cell_type": "code",
   "execution_count": 25,
   "id": "f18edd3f",
   "metadata": {},
   "outputs": [
    {
     "data": {
      "text/plain": [
       "deque([3, 4, 5, 1, 2])"
      ]
     },
     "execution_count": 25,
     "metadata": {},
     "output_type": "execute_result"
    }
   ],
   "source": [
    "# Deque allows for constant time operations\n",
    "new_circular_array = collections.deque(circular_array)\n",
    "temp = new_circular_array.popleft()\n",
    "new_circular_array.append(temp)\n",
    "\n",
    "new_circular_array"
   ]
  },
  {
   "cell_type": "markdown",
   "id": "a1c25c60",
   "metadata": {},
   "source": [
    "# Itertools\n",
    "\n",
    "The `itertools` module is part of the Python Standard Library and provides efficient functions for looping over objects.\n",
    "\n",
    "[View the official Python docs.](https://docs.python.org/3/library/itertools.html) Everything you need to know is here and straight to the point, there's a few examples included as well.\n",
    "\n",
    "Many of these functions are implemented in C, making them much faster and more memory efficient than a native Python equivalent."
   ]
  },
  {
   "cell_type": "markdown",
   "id": "bccbfda9",
   "metadata": {},
   "source": [
    "### Let's showcase some of my favorites: combinatoric iterators."
   ]
  },
  {
   "cell_type": "code",
   "execution_count": 26,
   "id": "3d76ba5d",
   "metadata": {},
   "outputs": [],
   "source": [
    "import itertools"
   ]
  },
  {
   "cell_type": "code",
   "execution_count": 27,
   "id": "79912947",
   "metadata": {},
   "outputs": [
    {
     "name": "stdout",
     "output_type": "stream",
     "text": [
      "(1, 2, 3)\n",
      "(1, 2, 4)\n",
      "(1, 2, 5)\n",
      "(1, 3, 4)\n",
      "(1, 3, 5)\n",
      "(1, 4, 5)\n",
      "(2, 3, 4)\n",
      "(2, 3, 5)\n",
      "(2, 4, 5)\n",
      "(3, 4, 5)\n"
     ]
    }
   ],
   "source": [
    "my_data = [1, 2, 3, 4, 5]\n",
    "\n",
    "for combination in itertools.combinations(my_data, 3):\n",
    "    print(combination)"
   ]
  },
  {
   "cell_type": "markdown",
   "id": "ce502c45",
   "metadata": {},
   "source": [
    "This prints all 10 3-combinations in sorted order."
   ]
  },
  {
   "cell_type": "code",
   "execution_count": 28,
   "id": "cafb9fd5",
   "metadata": {},
   "outputs": [
    {
     "name": "stdout",
     "output_type": "stream",
     "text": [
      "(1, 2, 3)\n",
      "(1, 2, 4)\n",
      "(1, 2, 5)\n",
      "(1, 3, 4)\n",
      "(1, 3, 5)\n",
      "(1, 4, 5)\n",
      "(2, 3, 4)\n",
      "(2, 3, 5)\n",
      "(2, 4, 5)\n",
      "(3, 4, 5)\n"
     ]
    }
   ],
   "source": [
    "# Equivalent code\n",
    "\n",
    "n = len(my_data)\n",
    "for i in range(n - 2):\n",
    "    for j in range(i + 1, n - 1):\n",
    "        for k in range(j + 1, n):\n",
    "            print((my_data[i], my_data[j], my_data[k]))"
   ]
  },
  {
   "cell_type": "code",
   "execution_count": 29,
   "id": "a46b5021",
   "metadata": {},
   "outputs": [
    {
     "name": "stdout",
     "output_type": "stream",
     "text": [
      "(1, 1, 1)\n",
      "(1, 1, 2)\n",
      "(1, 1, 3)\n",
      "(1, 1, 4)\n",
      "(1, 1, 5)\n",
      "(1, 2, 2)\n",
      "(1, 2, 3)\n",
      "(1, 2, 4)\n",
      "(1, 2, 5)\n",
      "(1, 3, 3)\n",
      "(1, 3, 4)\n",
      "(1, 3, 5)\n",
      "(1, 4, 4)\n",
      "(1, 4, 5)\n",
      "(1, 5, 5)\n",
      "(2, 2, 2)\n",
      "(2, 2, 3)\n",
      "(2, 2, 4)\n",
      "(2, 2, 5)\n",
      "(2, 3, 3)\n",
      "(2, 3, 4)\n",
      "(2, 3, 5)\n",
      "(2, 4, 4)\n",
      "(2, 4, 5)\n",
      "(2, 5, 5)\n",
      "(3, 3, 3)\n",
      "(3, 3, 4)\n",
      "(3, 3, 5)\n",
      "(3, 4, 4)\n",
      "(3, 4, 5)\n",
      "(3, 5, 5)\n",
      "(4, 4, 4)\n",
      "(4, 4, 5)\n",
      "(4, 5, 5)\n",
      "(5, 5, 5)\n"
     ]
    }
   ],
   "source": [
    "for combination_with_replacement in itertools.combinations_with_replacement(my_data, 3):\n",
    "    print(combination_with_replacement)"
   ]
  },
  {
   "cell_type": "code",
   "execution_count": 30,
   "id": "6df99493",
   "metadata": {},
   "outputs": [
    {
     "name": "stdout",
     "output_type": "stream",
     "text": [
      "(1, 2, 3)\n",
      "(1, 2, 4)\n",
      "(1, 2, 5)\n",
      "(1, 3, 2)\n",
      "(1, 3, 4)\n",
      "(1, 3, 5)\n",
      "(1, 4, 2)\n",
      "(1, 4, 3)\n",
      "(1, 4, 5)\n",
      "(1, 5, 2)\n",
      "(1, 5, 3)\n",
      "(1, 5, 4)\n",
      "(2, 1, 3)\n",
      "(2, 1, 4)\n",
      "(2, 1, 5)\n",
      "(2, 3, 1)\n",
      "(2, 3, 4)\n",
      "(2, 3, 5)\n",
      "(2, 4, 1)\n",
      "(2, 4, 3)\n",
      "(2, 4, 5)\n",
      "(2, 5, 1)\n",
      "(2, 5, 3)\n",
      "(2, 5, 4)\n",
      "(3, 1, 2)\n",
      "(3, 1, 4)\n",
      "(3, 1, 5)\n",
      "(3, 2, 1)\n",
      "(3, 2, 4)\n",
      "(3, 2, 5)\n",
      "(3, 4, 1)\n",
      "(3, 4, 2)\n",
      "(3, 4, 5)\n",
      "(3, 5, 1)\n",
      "(3, 5, 2)\n",
      "(3, 5, 4)\n",
      "(4, 1, 2)\n",
      "(4, 1, 3)\n",
      "(4, 1, 5)\n",
      "(4, 2, 1)\n",
      "(4, 2, 3)\n",
      "(4, 2, 5)\n",
      "(4, 3, 1)\n",
      "(4, 3, 2)\n",
      "(4, 3, 5)\n",
      "(4, 5, 1)\n",
      "(4, 5, 2)\n",
      "(4, 5, 3)\n",
      "(5, 1, 2)\n",
      "(5, 1, 3)\n",
      "(5, 1, 4)\n",
      "(5, 2, 1)\n",
      "(5, 2, 3)\n",
      "(5, 2, 4)\n",
      "(5, 3, 1)\n",
      "(5, 3, 2)\n",
      "(5, 3, 4)\n",
      "(5, 4, 1)\n",
      "(5, 4, 2)\n",
      "(5, 4, 3)\n"
     ]
    }
   ],
   "source": [
    "for permutation in itertools.permutations(my_data, 3):\n",
    "    print(permutation)"
   ]
  },
  {
   "cell_type": "markdown",
   "id": "8bb87c41",
   "metadata": {},
   "source": [
    "Question for the viewers, why is there no `permutations_with_replacement` function?"
   ]
  },
  {
   "cell_type": "markdown",
   "id": "4cb3e425",
   "metadata": {},
   "source": [
    "### Something more tangible"
   ]
  },
  {
   "cell_type": "code",
   "execution_count": 31,
   "id": "de478df0",
   "metadata": {},
   "outputs": [],
   "source": [
    "class SetGame:\n",
    "\n",
    "    def __init__(self):\n",
    "\n",
    "        # Stores all cards currently in play\n",
    "        self.cards = []\n",
    "\n",
    "        # Keep list of all traits for iteration\n",
    "        self._traits = [\"number\", \"color\", \"fill\", \"shape\"]\n",
    "\n",
    "    def add_card(self, card):\n",
    "\n",
    "        # Add a card object to the list of cards in play\n",
    "        self.cards.append(card)\n",
    "\n",
    "    def is_set(self, cards):\n",
    "        for trait in self._traits:\n",
    "\n",
    "            # Get list of all values held by cards for a particular trait\n",
    "            values = [getattr(card, trait) for card in cards]\n",
    "\n",
    "            # Use a set to get number of unique values\n",
    "            num_unique_values = len(set(values))\n",
    "\n",
    "            # If values are not all different and not all the same, not a SET\n",
    "            if num_unique_values != 1 and num_unique_values != len(values):\n",
    "                return False\n",
    "            \n",
    "        # If values are all the same or all different for all traits, is a SET\n",
    "        return True\n",
    "\n",
    "\n",
    "class Card:\n",
    "\n",
    "    def __init__(self, number, color, fill, shape):\n",
    "        self.number = number # 1, 2, 3\n",
    "        self.color = color # red, green, blue\n",
    "        self.fill = fill # solid, striped, empty\n",
    "        self.shape = shape # oval, squiggle, diamond"
   ]
  },
  {
   "cell_type": "markdown",
   "id": "911dbe27",
   "metadata": {},
   "source": [
    "Here is a mockup of the card game SET. The goal is to find groups of 3 cards such that for each trait (number, color, fill, shape), the values of that trait are either all the same or all different. [#ShamelessPlug](https://github.com/samuelikohn/set/)\n",
    "\n",
    "Easy right?\n",
    "\n",
    "![SET Board](set.png)\n",
    "\n",
    "[Image Source](https://playset.netlify.app/)"
   ]
  },
  {
   "cell_type": "code",
   "execution_count": 32,
   "id": "c761a5f4",
   "metadata": {},
   "outputs": [],
   "source": [
    "# Initialize game\n",
    "\n",
    "game = SetGame()\n",
    "game.add_card(Card(3, \"red\", \"solid\", \"diamond\"))\n",
    "game.add_card(Card(3, \"green\", \"empty\", \"diamond\"))\n",
    "game.add_card(Card(1, \"purple\", \"empty\", \"diamond\"))\n",
    "game.add_card(Card(3, \"purple\", \"striped\", \"squiggle\"))\n",
    "game.add_card(Card(2, \"purple\", \"empty\", \"oval\"))\n",
    "game.add_card(Card(3, \"green\", \"solid\", \"squiggle\"))\n",
    "game.add_card(Card(1, \"red\", \"solid\", \"squiggle\"))\n",
    "game.add_card(Card(1, \"red\", \"striped\", \"oval\"))\n",
    "game.add_card(Card(2, \"green\", \"solid\", \"squiggle\"))\n",
    "game.add_card(Card(3, \"green\", \"striped\", \"oval\"))\n",
    "game.add_card(Card(1, \"purple\", \"empty\", \"squiggle\"))\n",
    "game.add_card(Card(2, \"red\", \"striped\", \"diamond\"))"
   ]
  },
  {
   "cell_type": "markdown",
   "id": "b42be9b7",
   "metadata": {},
   "source": [
    "Let's profile the execution time while counting the number of SETs."
   ]
  },
  {
   "cell_type": "code",
   "execution_count": 33,
   "id": "53082e84",
   "metadata": {},
   "outputs": [
    {
     "data": {
      "text/plain": [
       "2"
      ]
     },
     "execution_count": 33,
     "metadata": {},
     "output_type": "execute_result"
    }
   ],
   "source": [
    "# Without using any itertools\n",
    "def count_sets_manual():\n",
    "    num_cards = len(game.cards)\n",
    "    count = 0\n",
    "    for i in range(num_cards - 2):\n",
    "        for j in range(i + 1, num_cards - 1):\n",
    "            for k in range(j + 1, num_cards):\n",
    "                if game.is_set([game.cards[i], game.cards[j], game.cards[k]]):\n",
    "                    count += 1\n",
    "\n",
    "    return count\n",
    "\n",
    "count_sets_manual()"
   ]
  },
  {
   "cell_type": "code",
   "execution_count": 39,
   "id": "5c7ed800",
   "metadata": {},
   "outputs": [
    {
     "data": {
      "text/plain": [
       "'1.304 seconds'"
      ]
     },
     "execution_count": 39,
     "metadata": {},
     "output_type": "execute_result"
    }
   ],
   "source": [
    "import timeit\n",
    "\n",
    "f\"{timeit.timeit('count_sets_manual()', globals=globals(), number=10_000):.3f} seconds\""
   ]
  },
  {
   "cell_type": "markdown",
   "id": "95919f67",
   "metadata": {},
   "source": [
    "Now lets do it using `combinations`."
   ]
  },
  {
   "cell_type": "code",
   "execution_count": 35,
   "id": "95a48afd",
   "metadata": {},
   "outputs": [
    {
     "data": {
      "text/plain": [
       "2"
      ]
     },
     "execution_count": 35,
     "metadata": {},
     "output_type": "execute_result"
    }
   ],
   "source": [
    "# Using combinations\n",
    "def count_sets_combinations():\n",
    "    count = 0\n",
    "    for combo in itertools.combinations(game.cards, 3):\n",
    "        if game.is_set(combo):\n",
    "            count += 1\n",
    "\n",
    "    return count\n",
    "\n",
    "count_sets_combinations()"
   ]
  },
  {
   "cell_type": "code",
   "execution_count": 42,
   "id": "71e5cb70",
   "metadata": {},
   "outputs": [
    {
     "data": {
      "text/plain": [
       "'1.140 seconds'"
      ]
     },
     "execution_count": 42,
     "metadata": {},
     "output_type": "execute_result"
    }
   ],
   "source": [
    "f\"{timeit.timeit('count_sets_combinations()', globals=globals(), number=10_000):.3f} seconds\""
   ]
  },
  {
   "cell_type": "markdown",
   "id": "e3e9f15d",
   "metadata": {},
   "source": [
    "### Just for fun"
   ]
  },
  {
   "cell_type": "code",
   "execution_count": 61,
   "id": "629e9034",
   "metadata": {},
   "outputs": [],
   "source": [
    "fib = map(lambda n: int((1 / (5**0.5)) * (((1 + 5**0.5) / 2)**n - ((1 - 5**0.5) / 2)**n)), itertools.count()) # start=0, step=1"
   ]
  },
  {
   "cell_type": "code",
   "execution_count": 76,
   "id": "c0bec2f0",
   "metadata": {},
   "outputs": [
    {
     "data": {
      "text/plain": [
       "377"
      ]
     },
     "execution_count": 76,
     "metadata": {},
     "output_type": "execute_result"
    }
   ],
   "source": [
    "next(fib)"
   ]
  }
 ],
 "metadata": {
  "kernelspec": {
   "display_name": "Python 3",
   "language": "python",
   "name": "python3"
  },
  "language_info": {
   "codemirror_mode": {
    "name": "ipython",
    "version": 3
   },
   "file_extension": ".py",
   "mimetype": "text/x-python",
   "name": "python",
   "nbconvert_exporter": "python",
   "pygments_lexer": "ipython3",
   "version": "3.12.1"
  }
 },
 "nbformat": 4,
 "nbformat_minor": 5
}
